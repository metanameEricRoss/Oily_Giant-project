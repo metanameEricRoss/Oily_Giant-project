{
 "cells": [
  {
   "cell_type": "markdown",
   "metadata": {
    "heading_collapsed": true
   },
   "source": [
    "# Libraries"
   ]
  },
  {
   "cell_type": "code",
   "execution_count": 2,
   "metadata": {
    "hidden": true
   },
   "outputs": [],
   "source": [
    "import pandas as pd \n",
    "\n",
    "import numpy as np\n",
    "\n",
    "from scipy import stats as st\n",
    "\n",
    "from sklearn.model_selection import train_test_split\n",
    "from sklearn.linear_model import LinearRegression\n",
    "from sklearn.metrics import mean_squared_error\n",
    "from sklearn.preprocessing import StandardScaler\n",
    "\n",
    "import matplotlib.pyplot as plt\n",
    "import seaborn as sns"
   ]
  },
  {
   "cell_type": "markdown",
   "metadata": {
    "heading_collapsed": true
   },
   "source": [
    "# Loading Data\n"
   ]
  },
  {
   "cell_type": "code",
   "execution_count": 3,
   "metadata": {
    "hidden": true
   },
   "outputs": [],
   "source": [
    "geo_0 = pd.read_csv('/Users/ericross/Desktop/DataSets/geo_data_0.csv')"
   ]
  },
  {
   "cell_type": "code",
   "execution_count": 4,
   "metadata": {
    "hidden": true
   },
   "outputs": [],
   "source": [
    "geo_1 = pd.read_csv('/Users/ericross/Desktop/DataSets/geo_data_1.csv')"
   ]
  },
  {
   "cell_type": "code",
   "execution_count": 5,
   "metadata": {
    "hidden": true
   },
   "outputs": [],
   "source": [
    "geo_2 = pd.read_csv('/Users/ericross/Desktop/DataSets/geo_data_2.csv')"
   ]
  },
  {
   "cell_type": "markdown",
   "metadata": {
    "heading_collapsed": true,
    "hidden": true
   },
   "source": [
    "## Data Overveiw"
   ]
  },
  {
   "cell_type": "markdown",
   "metadata": {
    "heading_collapsed": true,
    "hidden": true
   },
   "source": [
    "### Region 0"
   ]
  },
  {
   "cell_type": "code",
   "execution_count": 6,
   "metadata": {
    "hidden": true,
    "scrolled": false
   },
   "outputs": [
    {
     "data": {
      "text/html": [
       "<div>\n",
       "<style scoped>\n",
       "    .dataframe tbody tr th:only-of-type {\n",
       "        vertical-align: middle;\n",
       "    }\n",
       "\n",
       "    .dataframe tbody tr th {\n",
       "        vertical-align: top;\n",
       "    }\n",
       "\n",
       "    .dataframe thead th {\n",
       "        text-align: right;\n",
       "    }\n",
       "</style>\n",
       "<table border=\"1\" class=\"dataframe\">\n",
       "  <thead>\n",
       "    <tr style=\"text-align: right;\">\n",
       "      <th></th>\n",
       "      <th>id</th>\n",
       "      <th>f0</th>\n",
       "      <th>f1</th>\n",
       "      <th>f2</th>\n",
       "      <th>product</th>\n",
       "    </tr>\n",
       "  </thead>\n",
       "  <tbody>\n",
       "    <tr>\n",
       "      <th>0</th>\n",
       "      <td>txEyH</td>\n",
       "      <td>0.705745</td>\n",
       "      <td>-0.497823</td>\n",
       "      <td>1.221170</td>\n",
       "      <td>105.280062</td>\n",
       "    </tr>\n",
       "    <tr>\n",
       "      <th>1</th>\n",
       "      <td>2acmU</td>\n",
       "      <td>1.334711</td>\n",
       "      <td>-0.340164</td>\n",
       "      <td>4.365080</td>\n",
       "      <td>73.037750</td>\n",
       "    </tr>\n",
       "    <tr>\n",
       "      <th>2</th>\n",
       "      <td>409Wp</td>\n",
       "      <td>1.022732</td>\n",
       "      <td>0.151990</td>\n",
       "      <td>1.419926</td>\n",
       "      <td>85.265647</td>\n",
       "    </tr>\n",
       "    <tr>\n",
       "      <th>3</th>\n",
       "      <td>iJLyR</td>\n",
       "      <td>-0.032172</td>\n",
       "      <td>0.139033</td>\n",
       "      <td>2.978566</td>\n",
       "      <td>168.620776</td>\n",
       "    </tr>\n",
       "    <tr>\n",
       "      <th>4</th>\n",
       "      <td>Xdl7t</td>\n",
       "      <td>1.988431</td>\n",
       "      <td>0.155413</td>\n",
       "      <td>4.751769</td>\n",
       "      <td>154.036647</td>\n",
       "    </tr>\n",
       "  </tbody>\n",
       "</table>\n",
       "</div>"
      ],
      "text/plain": [
       "      id        f0        f1        f2     product\n",
       "0  txEyH  0.705745 -0.497823  1.221170  105.280062\n",
       "1  2acmU  1.334711 -0.340164  4.365080   73.037750\n",
       "2  409Wp  1.022732  0.151990  1.419926   85.265647\n",
       "3  iJLyR -0.032172  0.139033  2.978566  168.620776\n",
       "4  Xdl7t  1.988431  0.155413  4.751769  154.036647"
      ]
     },
     "execution_count": 6,
     "metadata": {},
     "output_type": "execute_result"
    }
   ],
   "source": [
    "geo_0.head()"
   ]
  },
  {
   "cell_type": "code",
   "execution_count": 7,
   "metadata": {
    "hidden": true,
    "scrolled": true
   },
   "outputs": [
    {
     "data": {
      "text/html": [
       "<div>\n",
       "<style scoped>\n",
       "    .dataframe tbody tr th:only-of-type {\n",
       "        vertical-align: middle;\n",
       "    }\n",
       "\n",
       "    .dataframe tbody tr th {\n",
       "        vertical-align: top;\n",
       "    }\n",
       "\n",
       "    .dataframe thead th {\n",
       "        text-align: right;\n",
       "    }\n",
       "</style>\n",
       "<table border=\"1\" class=\"dataframe\">\n",
       "  <thead>\n",
       "    <tr style=\"text-align: right;\">\n",
       "      <th></th>\n",
       "      <th>f0</th>\n",
       "      <th>f1</th>\n",
       "      <th>f2</th>\n",
       "      <th>product</th>\n",
       "    </tr>\n",
       "  </thead>\n",
       "  <tbody>\n",
       "    <tr>\n",
       "      <th>count</th>\n",
       "      <td>100000.000000</td>\n",
       "      <td>100000.000000</td>\n",
       "      <td>100000.000000</td>\n",
       "      <td>100000.000000</td>\n",
       "    </tr>\n",
       "    <tr>\n",
       "      <th>mean</th>\n",
       "      <td>0.500419</td>\n",
       "      <td>0.250143</td>\n",
       "      <td>2.502647</td>\n",
       "      <td>92.500000</td>\n",
       "    </tr>\n",
       "    <tr>\n",
       "      <th>std</th>\n",
       "      <td>0.871832</td>\n",
       "      <td>0.504433</td>\n",
       "      <td>3.248248</td>\n",
       "      <td>44.288691</td>\n",
       "    </tr>\n",
       "    <tr>\n",
       "      <th>min</th>\n",
       "      <td>-1.408605</td>\n",
       "      <td>-0.848218</td>\n",
       "      <td>-12.088328</td>\n",
       "      <td>0.000000</td>\n",
       "    </tr>\n",
       "    <tr>\n",
       "      <th>25%</th>\n",
       "      <td>-0.072580</td>\n",
       "      <td>-0.200881</td>\n",
       "      <td>0.287748</td>\n",
       "      <td>56.497507</td>\n",
       "    </tr>\n",
       "    <tr>\n",
       "      <th>50%</th>\n",
       "      <td>0.502360</td>\n",
       "      <td>0.250252</td>\n",
       "      <td>2.515969</td>\n",
       "      <td>91.849972</td>\n",
       "    </tr>\n",
       "    <tr>\n",
       "      <th>75%</th>\n",
       "      <td>1.073581</td>\n",
       "      <td>0.700646</td>\n",
       "      <td>4.715088</td>\n",
       "      <td>128.564089</td>\n",
       "    </tr>\n",
       "    <tr>\n",
       "      <th>max</th>\n",
       "      <td>2.362331</td>\n",
       "      <td>1.343769</td>\n",
       "      <td>16.003790</td>\n",
       "      <td>185.364347</td>\n",
       "    </tr>\n",
       "  </tbody>\n",
       "</table>\n",
       "</div>"
      ],
      "text/plain": [
       "                  f0             f1             f2        product\n",
       "count  100000.000000  100000.000000  100000.000000  100000.000000\n",
       "mean        0.500419       0.250143       2.502647      92.500000\n",
       "std         0.871832       0.504433       3.248248      44.288691\n",
       "min        -1.408605      -0.848218     -12.088328       0.000000\n",
       "25%        -0.072580      -0.200881       0.287748      56.497507\n",
       "50%         0.502360       0.250252       2.515969      91.849972\n",
       "75%         1.073581       0.700646       4.715088     128.564089\n",
       "max         2.362331       1.343769      16.003790     185.364347"
      ]
     },
     "execution_count": 7,
     "metadata": {},
     "output_type": "execute_result"
    }
   ],
   "source": [
    "geo_0.describe()"
   ]
  },
  {
   "cell_type": "code",
   "execution_count": 8,
   "metadata": {
    "hidden": true
   },
   "outputs": [
    {
     "name": "stdout",
     "output_type": "stream",
     "text": [
      "<class 'pandas.core.frame.DataFrame'>\n",
      "RangeIndex: 100000 entries, 0 to 99999\n",
      "Data columns (total 5 columns):\n",
      " #   Column   Non-Null Count   Dtype  \n",
      "---  ------   --------------   -----  \n",
      " 0   id       100000 non-null  object \n",
      " 1   f0       100000 non-null  float64\n",
      " 2   f1       100000 non-null  float64\n",
      " 3   f2       100000 non-null  float64\n",
      " 4   product  100000 non-null  float64\n",
      "dtypes: float64(4), object(1)\n",
      "memory usage: 3.8+ MB\n"
     ]
    }
   ],
   "source": [
    "geo_0.info()"
   ]
  },
  {
   "cell_type": "markdown",
   "metadata": {
    "heading_collapsed": true,
    "hidden": true
   },
   "source": [
    "### Region 1"
   ]
  },
  {
   "cell_type": "code",
   "execution_count": 9,
   "metadata": {
    "hidden": true,
    "scrolled": true
   },
   "outputs": [
    {
     "data": {
      "text/html": [
       "<div>\n",
       "<style scoped>\n",
       "    .dataframe tbody tr th:only-of-type {\n",
       "        vertical-align: middle;\n",
       "    }\n",
       "\n",
       "    .dataframe tbody tr th {\n",
       "        vertical-align: top;\n",
       "    }\n",
       "\n",
       "    .dataframe thead th {\n",
       "        text-align: right;\n",
       "    }\n",
       "</style>\n",
       "<table border=\"1\" class=\"dataframe\">\n",
       "  <thead>\n",
       "    <tr style=\"text-align: right;\">\n",
       "      <th></th>\n",
       "      <th>id</th>\n",
       "      <th>f0</th>\n",
       "      <th>f1</th>\n",
       "      <th>f2</th>\n",
       "      <th>product</th>\n",
       "    </tr>\n",
       "  </thead>\n",
       "  <tbody>\n",
       "    <tr>\n",
       "      <th>0</th>\n",
       "      <td>kBEdx</td>\n",
       "      <td>-15.001348</td>\n",
       "      <td>-8.276000</td>\n",
       "      <td>-0.005876</td>\n",
       "      <td>3.179103</td>\n",
       "    </tr>\n",
       "    <tr>\n",
       "      <th>1</th>\n",
       "      <td>62mP7</td>\n",
       "      <td>14.272088</td>\n",
       "      <td>-3.475083</td>\n",
       "      <td>0.999183</td>\n",
       "      <td>26.953261</td>\n",
       "    </tr>\n",
       "    <tr>\n",
       "      <th>2</th>\n",
       "      <td>vyE1P</td>\n",
       "      <td>6.263187</td>\n",
       "      <td>-5.948386</td>\n",
       "      <td>5.001160</td>\n",
       "      <td>134.766305</td>\n",
       "    </tr>\n",
       "    <tr>\n",
       "      <th>3</th>\n",
       "      <td>KcrkZ</td>\n",
       "      <td>-13.081196</td>\n",
       "      <td>-11.506057</td>\n",
       "      <td>4.999415</td>\n",
       "      <td>137.945408</td>\n",
       "    </tr>\n",
       "    <tr>\n",
       "      <th>4</th>\n",
       "      <td>AHL4O</td>\n",
       "      <td>12.702195</td>\n",
       "      <td>-8.147433</td>\n",
       "      <td>5.004363</td>\n",
       "      <td>134.766305</td>\n",
       "    </tr>\n",
       "  </tbody>\n",
       "</table>\n",
       "</div>"
      ],
      "text/plain": [
       "      id         f0         f1        f2     product\n",
       "0  kBEdx -15.001348  -8.276000 -0.005876    3.179103\n",
       "1  62mP7  14.272088  -3.475083  0.999183   26.953261\n",
       "2  vyE1P   6.263187  -5.948386  5.001160  134.766305\n",
       "3  KcrkZ -13.081196 -11.506057  4.999415  137.945408\n",
       "4  AHL4O  12.702195  -8.147433  5.004363  134.766305"
      ]
     },
     "execution_count": 9,
     "metadata": {},
     "output_type": "execute_result"
    }
   ],
   "source": [
    "geo_1.head()"
   ]
  },
  {
   "cell_type": "code",
   "execution_count": 10,
   "metadata": {
    "hidden": true,
    "scrolled": true
   },
   "outputs": [
    {
     "data": {
      "text/html": [
       "<div>\n",
       "<style scoped>\n",
       "    .dataframe tbody tr th:only-of-type {\n",
       "        vertical-align: middle;\n",
       "    }\n",
       "\n",
       "    .dataframe tbody tr th {\n",
       "        vertical-align: top;\n",
       "    }\n",
       "\n",
       "    .dataframe thead th {\n",
       "        text-align: right;\n",
       "    }\n",
       "</style>\n",
       "<table border=\"1\" class=\"dataframe\">\n",
       "  <thead>\n",
       "    <tr style=\"text-align: right;\">\n",
       "      <th></th>\n",
       "      <th>f0</th>\n",
       "      <th>f1</th>\n",
       "      <th>f2</th>\n",
       "      <th>product</th>\n",
       "    </tr>\n",
       "  </thead>\n",
       "  <tbody>\n",
       "    <tr>\n",
       "      <th>count</th>\n",
       "      <td>100000.000000</td>\n",
       "      <td>100000.000000</td>\n",
       "      <td>100000.000000</td>\n",
       "      <td>100000.000000</td>\n",
       "    </tr>\n",
       "    <tr>\n",
       "      <th>mean</th>\n",
       "      <td>1.141296</td>\n",
       "      <td>-4.796579</td>\n",
       "      <td>2.494541</td>\n",
       "      <td>68.825000</td>\n",
       "    </tr>\n",
       "    <tr>\n",
       "      <th>std</th>\n",
       "      <td>8.965932</td>\n",
       "      <td>5.119872</td>\n",
       "      <td>1.703572</td>\n",
       "      <td>45.944423</td>\n",
       "    </tr>\n",
       "    <tr>\n",
       "      <th>min</th>\n",
       "      <td>-31.609576</td>\n",
       "      <td>-26.358598</td>\n",
       "      <td>-0.018144</td>\n",
       "      <td>0.000000</td>\n",
       "    </tr>\n",
       "    <tr>\n",
       "      <th>25%</th>\n",
       "      <td>-6.298551</td>\n",
       "      <td>-8.267985</td>\n",
       "      <td>1.000021</td>\n",
       "      <td>26.953261</td>\n",
       "    </tr>\n",
       "    <tr>\n",
       "      <th>50%</th>\n",
       "      <td>1.153055</td>\n",
       "      <td>-4.813172</td>\n",
       "      <td>2.011479</td>\n",
       "      <td>57.085625</td>\n",
       "    </tr>\n",
       "    <tr>\n",
       "      <th>75%</th>\n",
       "      <td>8.621015</td>\n",
       "      <td>-1.332816</td>\n",
       "      <td>3.999904</td>\n",
       "      <td>107.813044</td>\n",
       "    </tr>\n",
       "    <tr>\n",
       "      <th>max</th>\n",
       "      <td>29.421755</td>\n",
       "      <td>18.734063</td>\n",
       "      <td>5.019721</td>\n",
       "      <td>137.945408</td>\n",
       "    </tr>\n",
       "  </tbody>\n",
       "</table>\n",
       "</div>"
      ],
      "text/plain": [
       "                  f0             f1             f2        product\n",
       "count  100000.000000  100000.000000  100000.000000  100000.000000\n",
       "mean        1.141296      -4.796579       2.494541      68.825000\n",
       "std         8.965932       5.119872       1.703572      45.944423\n",
       "min       -31.609576     -26.358598      -0.018144       0.000000\n",
       "25%        -6.298551      -8.267985       1.000021      26.953261\n",
       "50%         1.153055      -4.813172       2.011479      57.085625\n",
       "75%         8.621015      -1.332816       3.999904     107.813044\n",
       "max        29.421755      18.734063       5.019721     137.945408"
      ]
     },
     "execution_count": 10,
     "metadata": {},
     "output_type": "execute_result"
    }
   ],
   "source": [
    "geo_1.describe()"
   ]
  },
  {
   "cell_type": "markdown",
   "metadata": {
    "heading_collapsed": true,
    "hidden": true
   },
   "source": [
    "### Region 2"
   ]
  },
  {
   "cell_type": "code",
   "execution_count": 11,
   "metadata": {
    "hidden": true,
    "scrolled": true
   },
   "outputs": [
    {
     "data": {
      "text/html": [
       "<div>\n",
       "<style scoped>\n",
       "    .dataframe tbody tr th:only-of-type {\n",
       "        vertical-align: middle;\n",
       "    }\n",
       "\n",
       "    .dataframe tbody tr th {\n",
       "        vertical-align: top;\n",
       "    }\n",
       "\n",
       "    .dataframe thead th {\n",
       "        text-align: right;\n",
       "    }\n",
       "</style>\n",
       "<table border=\"1\" class=\"dataframe\">\n",
       "  <thead>\n",
       "    <tr style=\"text-align: right;\">\n",
       "      <th></th>\n",
       "      <th>id</th>\n",
       "      <th>f0</th>\n",
       "      <th>f1</th>\n",
       "      <th>f2</th>\n",
       "      <th>product</th>\n",
       "    </tr>\n",
       "  </thead>\n",
       "  <tbody>\n",
       "    <tr>\n",
       "      <th>0</th>\n",
       "      <td>fwXo0</td>\n",
       "      <td>-1.146987</td>\n",
       "      <td>0.963328</td>\n",
       "      <td>-0.828965</td>\n",
       "      <td>27.758673</td>\n",
       "    </tr>\n",
       "    <tr>\n",
       "      <th>1</th>\n",
       "      <td>WJtFt</td>\n",
       "      <td>0.262778</td>\n",
       "      <td>0.269839</td>\n",
       "      <td>-2.530187</td>\n",
       "      <td>56.069697</td>\n",
       "    </tr>\n",
       "    <tr>\n",
       "      <th>2</th>\n",
       "      <td>ovLUW</td>\n",
       "      <td>0.194587</td>\n",
       "      <td>0.289035</td>\n",
       "      <td>-5.586433</td>\n",
       "      <td>62.871910</td>\n",
       "    </tr>\n",
       "    <tr>\n",
       "      <th>3</th>\n",
       "      <td>q6cA6</td>\n",
       "      <td>2.236060</td>\n",
       "      <td>-0.553760</td>\n",
       "      <td>0.930038</td>\n",
       "      <td>114.572842</td>\n",
       "    </tr>\n",
       "    <tr>\n",
       "      <th>4</th>\n",
       "      <td>WPMUX</td>\n",
       "      <td>-0.515993</td>\n",
       "      <td>1.716266</td>\n",
       "      <td>5.899011</td>\n",
       "      <td>149.600746</td>\n",
       "    </tr>\n",
       "  </tbody>\n",
       "</table>\n",
       "</div>"
      ],
      "text/plain": [
       "      id        f0        f1        f2     product\n",
       "0  fwXo0 -1.146987  0.963328 -0.828965   27.758673\n",
       "1  WJtFt  0.262778  0.269839 -2.530187   56.069697\n",
       "2  ovLUW  0.194587  0.289035 -5.586433   62.871910\n",
       "3  q6cA6  2.236060 -0.553760  0.930038  114.572842\n",
       "4  WPMUX -0.515993  1.716266  5.899011  149.600746"
      ]
     },
     "execution_count": 11,
     "metadata": {},
     "output_type": "execute_result"
    }
   ],
   "source": [
    "geo_2.head()"
   ]
  },
  {
   "cell_type": "code",
   "execution_count": 12,
   "metadata": {
    "hidden": true,
    "scrolled": true
   },
   "outputs": [
    {
     "data": {
      "text/html": [
       "<div>\n",
       "<style scoped>\n",
       "    .dataframe tbody tr th:only-of-type {\n",
       "        vertical-align: middle;\n",
       "    }\n",
       "\n",
       "    .dataframe tbody tr th {\n",
       "        vertical-align: top;\n",
       "    }\n",
       "\n",
       "    .dataframe thead th {\n",
       "        text-align: right;\n",
       "    }\n",
       "</style>\n",
       "<table border=\"1\" class=\"dataframe\">\n",
       "  <thead>\n",
       "    <tr style=\"text-align: right;\">\n",
       "      <th></th>\n",
       "      <th>f0</th>\n",
       "      <th>f1</th>\n",
       "      <th>f2</th>\n",
       "      <th>product</th>\n",
       "    </tr>\n",
       "  </thead>\n",
       "  <tbody>\n",
       "    <tr>\n",
       "      <th>count</th>\n",
       "      <td>100000.000000</td>\n",
       "      <td>100000.000000</td>\n",
       "      <td>100000.000000</td>\n",
       "      <td>100000.000000</td>\n",
       "    </tr>\n",
       "    <tr>\n",
       "      <th>mean</th>\n",
       "      <td>0.002023</td>\n",
       "      <td>-0.002081</td>\n",
       "      <td>2.495128</td>\n",
       "      <td>95.000000</td>\n",
       "    </tr>\n",
       "    <tr>\n",
       "      <th>std</th>\n",
       "      <td>1.732045</td>\n",
       "      <td>1.730417</td>\n",
       "      <td>3.473445</td>\n",
       "      <td>44.749921</td>\n",
       "    </tr>\n",
       "    <tr>\n",
       "      <th>min</th>\n",
       "      <td>-8.760004</td>\n",
       "      <td>-7.084020</td>\n",
       "      <td>-11.970335</td>\n",
       "      <td>0.000000</td>\n",
       "    </tr>\n",
       "    <tr>\n",
       "      <th>25%</th>\n",
       "      <td>-1.162288</td>\n",
       "      <td>-1.174820</td>\n",
       "      <td>0.130359</td>\n",
       "      <td>59.450441</td>\n",
       "    </tr>\n",
       "    <tr>\n",
       "      <th>50%</th>\n",
       "      <td>0.009424</td>\n",
       "      <td>-0.009482</td>\n",
       "      <td>2.484236</td>\n",
       "      <td>94.925613</td>\n",
       "    </tr>\n",
       "    <tr>\n",
       "      <th>75%</th>\n",
       "      <td>1.158535</td>\n",
       "      <td>1.163678</td>\n",
       "      <td>4.858794</td>\n",
       "      <td>130.595027</td>\n",
       "    </tr>\n",
       "    <tr>\n",
       "      <th>max</th>\n",
       "      <td>7.238262</td>\n",
       "      <td>7.844801</td>\n",
       "      <td>16.739402</td>\n",
       "      <td>190.029838</td>\n",
       "    </tr>\n",
       "  </tbody>\n",
       "</table>\n",
       "</div>"
      ],
      "text/plain": [
       "                  f0             f1             f2        product\n",
       "count  100000.000000  100000.000000  100000.000000  100000.000000\n",
       "mean        0.002023      -0.002081       2.495128      95.000000\n",
       "std         1.732045       1.730417       3.473445      44.749921\n",
       "min        -8.760004      -7.084020     -11.970335       0.000000\n",
       "25%        -1.162288      -1.174820       0.130359      59.450441\n",
       "50%         0.009424      -0.009482       2.484236      94.925613\n",
       "75%         1.158535       1.163678       4.858794     130.595027\n",
       "max         7.238262       7.844801      16.739402     190.029838"
      ]
     },
     "execution_count": 12,
     "metadata": {},
     "output_type": "execute_result"
    }
   ],
   "source": [
    "geo_2.describe()"
   ]
  },
  {
   "cell_type": "code",
   "execution_count": 13,
   "metadata": {
    "hidden": true
   },
   "outputs": [
    {
     "data": {
      "text/plain": [
       "0        105.280062\n",
       "1         73.037750\n",
       "2         85.265647\n",
       "3        168.620776\n",
       "4        154.036647\n",
       "            ...    \n",
       "99995    110.744026\n",
       "99996    122.346843\n",
       "99997     64.375443\n",
       "99998     74.040764\n",
       "99999    149.633246\n",
       "Name: product, Length: 100000, dtype: float64"
      ]
     },
     "execution_count": 13,
     "metadata": {},
     "output_type": "execute_result"
    }
   ],
   "source": [
    "geo_0['product']"
   ]
  },
  {
   "cell_type": "markdown",
   "metadata": {
    "heading_collapsed": true,
    "hidden": true
   },
   "source": [
    "### Charting Production Values"
   ]
  },
  {
   "cell_type": "code",
   "execution_count": 14,
   "metadata": {
    "hidden": true,
    "scrolled": true
   },
   "outputs": [
    {
     "data": {
      "image/png": "[encoded data removed]",
      "text/plain": [
       "<Figure size 864x288 with 3 Axes>"
      ]
     },
     "metadata": {
      "needs_background": "light"
     },
     "output_type": "display_data"
    }
   ],
   "source": [
    "fig, axes = plt.subplots(1, 3, figsize=(12, 4), sharey=True, sharex=True)\n",
    "\n",
    "sns.histplot(geo_0['product'], kde=True, stat='percent', ax=axes[0], color='blue')\n",
    "axes[0].set_xlabel(\"Values\")\n",
    "axes[0].set_ylabel(\"Percent\")\n",
    "axes[0].set_title(\"Region0\")\n",
    "\n",
    "sns.histplot(geo_1['product'], kde=True, stat='percent', ax=axes[1], color='green')\n",
    "axes[1].set_xlabel(\"Values\")\n",
    "axes[1].set_title(\"Region1\")\n",
    "\n",
    "sns.histplot(geo_2['product'], kde=True, stat='percent', ax=axes[2], color='purple')\n",
    "axes[2].set_xlabel(\"Values\")\n",
    "axes[2].set_title(\"Region2\")\n",
    "\n",
    "plt.tight_layout()\n",
    "plt.show()"
   ]
  },
  {
   "cell_type": "markdown",
   "metadata": {
    "heading_collapsed": true
   },
   "source": [
    "# MODELING"
   ]
  },
  {
   "cell_type": "markdown",
   "metadata": {
    "heading_collapsed": true,
    "hidden": true
   },
   "source": [
    "### Region0"
   ]
  },
  {
   "cell_type": "markdown",
   "metadata": {
    "heading_collapsed": true,
    "hidden": true
   },
   "source": [
    "#### Train, Valid, Test "
   ]
  },
  {
   "cell_type": "code",
   "execution_count": 15,
   "metadata": {
    "hidden": true,
    "scrolled": false
   },
   "outputs": [],
   "source": [
    "# splitting the data\n",
    "target0 = geo_0['product']\n",
    "features0 = geo_0.drop(['product','id'], axis=1)\n",
    "\n",
    "features0_train , features0_valid , target0_train , target0_valid = train_test_split(features0, target0, test_size=0.25, random_state=24680) \n"
   ]
  },
  {
   "cell_type": "markdown",
   "metadata": {
    "heading_collapsed": true,
    "hidden": true
   },
   "source": [
    "#### Scaling Features"
   ]
  },
  {
   "cell_type": "code",
   "execution_count": 16,
   "metadata": {
    "hidden": true
   },
   "outputs": [],
   "source": [
    "pd.options.mode.chained_assignment = None\n",
    "scaler = StandardScaler()\n",
    "numeric = ['f0','f1','f2']\n",
    "scaler.fit(features0_train[numeric])\n",
    "features0_train[numeric] = scaler.transform(features0_train[numeric])\n",
    "features0_valid[numeric] = scaler.transform(features0_valid[numeric])"
   ]
  },
  {
   "cell_type": "code",
   "execution_count": 17,
   "metadata": {
    "hidden": true
   },
   "outputs": [
    {
     "name": "stdout",
     "output_type": "stream",
     "text": [
      "             f0        f1        f2\n",
      "6993   1.805649 -0.343927 -0.897550\n",
      "463   -0.483896  1.483733  2.060324\n",
      "97311 -1.687365 -0.113726 -0.935542\n",
      "94739  0.790568  0.191974  0.231956\n",
      "53814 -0.045251 -0.958302 -0.358488\n",
      "...         ...       ...       ...\n",
      "60797  0.261456 -1.337666 -0.013949\n",
      "80482  0.045546 -1.239935  0.635566\n",
      "82731 -0.721466  1.609175  0.160910\n",
      "2211   1.547325 -0.845656 -1.189972\n",
      "73830  0.887899 -1.285161  0.679962\n",
      "\n",
      "[75000 rows x 3 columns]\n"
     ]
    }
   ],
   "source": [
    "print(features0_train)"
   ]
  },
  {
   "cell_type": "markdown",
   "metadata": {
    "heading_collapsed": true,
    "hidden": true
   },
   "source": [
    "#### Modeling"
   ]
  },
  {
   "cell_type": "code",
   "execution_count": 18,
   "metadata": {
    "hidden": true,
    "scrolled": true
   },
   "outputs": [],
   "source": [
    "model0 = LinearRegression()\n",
    "\n",
    "model0.fit(features0_train, target0_train)\n",
    "    \n",
    "predictions0_valid = pd.Series(model0.predict(features0_valid))"
   ]
  },
  {
   "cell_type": "code",
   "execution_count": 19,
   "metadata": {
    "hidden": true
   },
   "outputs": [
    {
     "data": {
      "image/png": "[encoded data removed]",
      "text/plain": [
       "<Figure size 432x288 with 1 Axes>"
      ]
     },
     "metadata": {
      "needs_background": "light"
     },
     "output_type": "display_data"
    }
   ],
   "source": [
    "sns.histplot(predictions0_valid, kde=True, stat='percent', color='blue')\n",
    "\n",
    "plt.show()"
   ]
  },
  {
   "cell_type": "markdown",
   "metadata": {
    "heading_collapsed": true,
    "hidden": true
   },
   "source": [
    "#### RSME"
   ]
  },
  {
   "cell_type": "code",
   "execution_count": 20,
   "metadata": {
    "hidden": true,
    "scrolled": true
   },
   "outputs": [
    {
     "name": "stdout",
     "output_type": "stream",
     "text": [
      " REGION 0\n",
      "MSE : 1430.6394569737404\n",
      "RMSE : 37.82379485157115\n",
      "Range:  0.0 - 185.33735241894465\n"
     ]
    }
   ],
   "source": [
    "# MSE & RMSE Calculations. \n",
    "mse = mean_squared_error(target0_valid, predictions0_valid)\n",
    "\n",
    "print(' REGION 0')\n",
    "\n",
    "print('MSE :', mse)\n",
    "print('RMSE :', mse ** 0.5)\n",
    "print('Range: ', target0_valid.min(),'-',target0_valid.max())"
   ]
  },
  {
   "cell_type": "markdown",
   "metadata": {
    "hidden": true
   },
   "source": [
    "Model_0\n",
    "- RSME is slightly high but acceptable. "
   ]
  },
  {
   "cell_type": "markdown",
   "metadata": {
    "heading_collapsed": true,
    "hidden": true
   },
   "source": [
    "### Region1"
   ]
  },
  {
   "cell_type": "markdown",
   "metadata": {
    "heading_collapsed": true,
    "hidden": true
   },
   "source": [
    "####  Train, Valid, Test"
   ]
  },
  {
   "cell_type": "code",
   "execution_count": 21,
   "metadata": {
    "hidden": true
   },
   "outputs": [],
   "source": [
    "target1 = geo_1['product']\n",
    "features1 = geo_1.drop(['product','id'], axis=1)\n",
    "\n",
    "features1_train , features1_valid , target1_train , target1_valid = train_test_split(features1, target1, test_size=0.25, random_state=24680) \n"
   ]
  },
  {
   "cell_type": "markdown",
   "metadata": {
    "heading_collapsed": true,
    "hidden": true
   },
   "source": [
    "#### Scaling Features"
   ]
  },
  {
   "cell_type": "code",
   "execution_count": 22,
   "metadata": {
    "hidden": true
   },
   "outputs": [],
   "source": [
    "pd.options.mode.chained_assignment = None\n",
    "scaler = StandardScaler()\n",
    "numeric = ['f0','f1','f2']\n",
    "scaler.fit(features1_train[numeric])\n",
    "features1_train[numeric] = scaler.transform(features1_train[numeric])\n",
    "features1_valid[numeric] = scaler.transform(features1_valid[numeric])"
   ]
  },
  {
   "cell_type": "markdown",
   "metadata": {
    "heading_collapsed": true,
    "hidden": true
   },
   "source": [
    "#### Modeling"
   ]
  },
  {
   "cell_type": "code",
   "execution_count": 23,
   "metadata": {
    "hidden": true,
    "scrolled": true
   },
   "outputs": [],
   "source": [
    "model1 = LinearRegression().fit(features1_train, target1_train)\n",
    "\n",
    "predictions1_valid = model1.predict(features1_valid)\n"
   ]
  },
  {
   "cell_type": "code",
   "execution_count": 24,
   "metadata": {
    "hidden": true
   },
   "outputs": [
    {
     "data": {
      "text/plain": [
       "<AxesSubplot:ylabel='Percent'>"
      ]
     },
     "execution_count": 24,
     "metadata": {},
     "output_type": "execute_result"
    },
    {
     "data": {
      "image/png": "[encoded data removed]",
      "text/plain": [
       "<Figure size 432x288 with 1 Axes>"
      ]
     },
     "metadata": {
      "needs_background": "light"
     },
     "output_type": "display_data"
    }
   ],
   "source": [
    "sns.histplot(predictions1_valid, kde=True, stat='percent', color='green')"
   ]
  },
  {
   "cell_type": "markdown",
   "metadata": {
    "heading_collapsed": true,
    "hidden": true
   },
   "source": [
    "#### RSME"
   ]
  },
  {
   "cell_type": "code",
   "execution_count": 25,
   "metadata": {
    "hidden": true,
    "scrolled": false
   },
   "outputs": [
    {
     "name": "stdout",
     "output_type": "stream",
     "text": [
      " REGION 1\n",
      "MSE : 0.7860353061240081\n",
      "RMSE : 0.8865863218683266\n",
      "Range:  0.0 - 137.94540774090564\n"
     ]
    }
   ],
   "source": [
    "# MSE & RMSE Calculations. \n",
    "mse = mean_squared_error(target1_valid, predictions1_valid)\n",
    "\n",
    "print(' REGION 1')\n",
    "print('MSE :', mse)\n",
    "print('RMSE :', mse ** 0.5)\n",
    "print('Range: ', target1_valid.min(),'-',target1_valid.max())"
   ]
  },
  {
   "cell_type": "markdown",
   "metadata": {
    "hidden": true
   },
   "source": [
    "##### **1**: RSME-Conclusion\n",
    "\n",
    "**Model_1** is *highly accurate*.\n",
    "- RSME = 0.8865863218683268\n",
    "    - Range: 0.0 - 137.94540774090564"
   ]
  },
  {
   "cell_type": "markdown",
   "metadata": {
    "heading_collapsed": true,
    "hidden": true
   },
   "source": [
    "### Region2"
   ]
  },
  {
   "cell_type": "markdown",
   "metadata": {
    "heading_collapsed": true,
    "hidden": true
   },
   "source": [
    "####  Train, Valid, Test"
   ]
  },
  {
   "cell_type": "code",
   "execution_count": 26,
   "metadata": {
    "hidden": true
   },
   "outputs": [],
   "source": [
    "# splitting into training and valid sets\n",
    "target2 = geo_2['product']\n",
    "features2 = geo_2.drop(['product','id'], axis=1)\n",
    "\n",
    "features2_train , features2_valid , target2_train , target2_valid = train_test_split(features2, target2, test_size=0.25, random_state=24680) "
   ]
  },
  {
   "cell_type": "markdown",
   "metadata": {
    "heading_collapsed": true,
    "hidden": true
   },
   "source": [
    "#### Scaling Features"
   ]
  },
  {
   "cell_type": "code",
   "execution_count": 27,
   "metadata": {
    "hidden": true
   },
   "outputs": [
    {
     "name": "stdout",
     "output_type": "stream",
     "text": [
      "             f0        f1        f2\n",
      "34500 -1.670884  0.371059 -0.188689\n",
      "99956  1.012227 -0.217961  0.688449\n",
      "68245 -0.203523 -0.154578  0.779782\n",
      "57944  2.179312  1.130733 -0.775089\n",
      "51495 -0.553404  0.228251  0.278922\n",
      "...         ...       ...       ...\n",
      "28470  0.158579  0.441319 -1.600973\n",
      "47951  0.614497 -0.134498 -0.974397\n",
      "72225  1.160359  0.703654  0.123623\n",
      "37887  1.208450  0.101411  0.218045\n",
      "35183  0.046360  0.056656  2.148106\n",
      "\n",
      "[25000 rows x 3 columns]\n"
     ]
    }
   ],
   "source": [
    "pd.options.mode.chained_assignment = None\n",
    "scaler = StandardScaler()\n",
    "numeric = ['f0','f1','f2']\n",
    "scaler.fit(features2_train[numeric])\n",
    "features2_train[numeric] = scaler.transform(features2_train[numeric])\n",
    "features2_valid[numeric] = scaler.transform(features2_valid[numeric])\n",
    "print(features2_valid)"
   ]
  },
  {
   "cell_type": "markdown",
   "metadata": {
    "heading_collapsed": true,
    "hidden": true
   },
   "source": [
    "#### Modeling"
   ]
  },
  {
   "cell_type": "code",
   "execution_count": 28,
   "metadata": {
    "hidden": true
   },
   "outputs": [],
   "source": [
    "model2 = LinearRegression().fit(features2_train, target2_train)\n",
    "\n",
    "predictions2_valid = model2.predict(features2_valid)"
   ]
  },
  {
   "cell_type": "code",
   "execution_count": 29,
   "metadata": {
    "hidden": true
   },
   "outputs": [
    {
     "data": {
      "text/plain": [
       "<AxesSubplot:ylabel='Percent'>"
      ]
     },
     "execution_count": 29,
     "metadata": {},
     "output_type": "execute_result"
    },
    {
     "data": {
      "image/png": "[encoded data removed]",
      "text/plain": [
       "<Figure size 432x288 with 1 Axes>"
      ]
     },
     "metadata": {
      "needs_background": "light"
     },
     "output_type": "display_data"
    }
   ],
   "source": [
    "sns.histplot(predictions2_valid, kde=True, stat='percent', color='purple')"
   ]
  },
  {
   "cell_type": "markdown",
   "metadata": {
    "heading_collapsed": true,
    "hidden": true
   },
   "source": [
    "#### RSME"
   ]
  },
  {
   "cell_type": "code",
   "execution_count": 30,
   "metadata": {
    "hidden": true
   },
   "outputs": [
    {
     "name": "stdout",
     "output_type": "stream",
     "text": [
      "   REGION_2\n",
      "MSE : 1616.6292401462572\n",
      "RMSE : 40.20732818960067\n",
      "Range:  0.0046060000398026 - 189.98819123328263\n"
     ]
    }
   ],
   "source": [
    "# MSE & RMSE Calculations. \n",
    "mse = mean_squared_error(target2_valid, predictions2_valid)\n",
    "\n",
    "print('   REGION_2')\n",
    "print('MSE :', mse)\n",
    "print('RMSE :', mse ** 0.5)\n",
    "print('Range: ', target2_valid.min(),'-',target2_valid.max())"
   ]
  },
  {
   "cell_type": "markdown",
   "metadata": {
    "hidden": true
   },
   "source": [
    "##### **2**: RSME-Conclusion\n",
    "**Model_2**\n",
    "- RMSE : 39.958042459521614\n",
    "- Range : 0.0 - 189.9964616709258"
   ]
  },
  {
   "cell_type": "markdown",
   "metadata": {},
   "source": [
    "# PROFIT CALCULATIONS"
   ]
  },
  {
   "cell_type": "code",
   "execution_count": 31,
   "metadata": {
    "scrolled": true
   },
   "outputs": [
    {
     "name": "stdout",
     "output_type": "stream",
     "text": [
      "Single Well Breakeven Points.\n",
      "Avg. Volume:~111\n",
      "Cost: 500000 (USD)\n"
     ]
    }
   ],
   "source": [
    "# saving metrics for production\n",
    "\n",
    "cost=100000000 \n",
    "quantity= 200\n",
    "perwell_cost = int(cost/quantity)\n",
    "unit_price = 4500\n",
    "breakeven_product = perwell_cost / unit_price\n",
    "\n",
    "print('Single Well Breakeven Points.')\n",
    "print(f'Avg. Volume:~{breakeven_product:0.0f}')\n",
    "print('Cost:',perwell_cost,'(USD)')"
   ]
  },
  {
   "cell_type": "markdown",
   "metadata": {
    "heading_collapsed": true
   },
   "source": [
    "### Top_200_profits"
   ]
  },
  {
   "cell_type": "code",
   "execution_count": 32,
   "metadata": {
    "hidden": true
   },
   "outputs": [],
   "source": [
    "def profit(selected):\n",
    "        revenue = selected * 4500\n",
    "        profit = revenue - 500000\n",
    "        return profit"
   ]
  },
  {
   "cell_type": "code",
   "execution_count": 33,
   "metadata": {
    "hidden": true
   },
   "outputs": [],
   "source": [
    "def top_200_profit(target, predictions, count):\n",
    "    predictions = np.array(predictions)\n",
    "    pred_sorted = np.argsort(predictions)[::-1]\n",
    "    target = np.array(target)\n",
    "    selected = target[pred_sorted][:count]\n",
    "    return pd.Series(profit(selected)).sum()"
   ]
  },
  {
   "cell_type": "code",
   "execution_count": 34,
   "metadata": {
    "hidden": true
   },
   "outputs": [
    {
     "name": "stdout",
     "output_type": "stream",
     "text": [
      "Profits-Region0:30959797.7115\n"
     ]
    }
   ],
   "source": [
    "#profit for individual wells in region 0\n",
    "\n",
    "profits0 = top_200_profit(target0_valid, predictions0_valid, 200)\n",
    "#-------------------------^^^^^^^^^^^^^-------------------------\n",
    "profits0_total = profits0.sum()\n",
    "\n",
    "print(f'Profits-Region0:{profits0:.4f}')"
   ]
  },
  {
   "cell_type": "code",
   "execution_count": 35,
   "metadata": {
    "hidden": true,
    "scrolled": false
   },
   "outputs": [
    {
     "name": "stdout",
     "output_type": "stream",
     "text": [
      "Profit-Region1:24150866.9668\n"
     ]
    }
   ],
   "source": [
    "#profit for individual wells in region 1\n",
    "\n",
    "profits1 = top_200_profit(target1_valid, predictions1_valid, 200)\n",
    "profits1_total = profits1.sum()\n",
    "\n",
    "print(f'Profit-Region1:{profits1:.4f}')"
   ]
  },
  {
   "cell_type": "code",
   "execution_count": 36,
   "metadata": {
    "hidden": true
   },
   "outputs": [
    {
     "name": "stdout",
     "output_type": "stream",
     "text": [
      "Profit-Region2:26469034.9081\n"
     ]
    }
   ],
   "source": [
    "#profit for individual wells in region 2\n",
    "\n",
    "profits2 = top_200_profit(target2_valid, predictions2_valid, 200)\n",
    "profits2_total = profits2.sum()\n",
    "\n",
    "print(f'Profit-Region2:{profits2:.4f}')"
   ]
  },
  {
   "cell_type": "markdown",
   "metadata": {
    "hidden": true
   },
   "source": [
    "#### Conclusion.  "
   ]
  },
  {
   "cell_type": "markdown",
   "metadata": {
    "hidden": true
   },
   "source": [
    "**Region0**\n",
    "- Total of Top 200 Profit: 30959797.71145364\n",
    "\n",
    "**Region1**\n",
    "- Total of Top 200 Profit: 24150866.96681509\n",
    "\n",
    "**region2**\n",
    "- Total of Top 200 Profit: 26469034.90806426\n",
    "\n",
    "\n",
    "Based on Predictions on the top 200 wells from each region and calculating the total profits.\n",
    "- **Region 2** is the only region that shows having a total profit that is not negative. Based on this could be an argument for developing in this region if all possible sites are excavated. This does not mean that wells will have suffecient volume to be profitable only that the region as a whole is in the green based on predictions."
   ]
  },
  {
   "cell_type": "markdown",
   "metadata": {},
   "source": [
    "# Bootstrap Sampling"
   ]
  },
  {
   "cell_type": "code",
   "execution_count": 37,
   "metadata": {},
   "outputs": [],
   "source": [
    "def bootstrap_sample(target_boot, prediction_boot):\n",
    "\n",
    "    values_profit=[]\n",
    "    neg_well = 0 \n",
    "    \n",
    "    prediction_boot = pd.Series(prediction_boot)\n",
    "    \n",
    "    prediction_boot.reset_index(drop=True, inplace=True)\n",
    "    target_boot.reset_index(drop=True, inplace=True)\n",
    "    \n",
    "    for i in range(1000):\n",
    "        #1000 samples for volume from target\n",
    "        target_subsample = target_boot.sample(500, replace=True)\n",
    "       \n",
    "        prediction_subsample = prediction_boot[target_subsample.index]\n",
    "        \n",
    "        #adding \"top_200_profit\" values of each subsample \n",
    "        values_profit.append(top_200_profit(target_subsample, prediction_subsample, 200))\n",
    "        # mean\n",
    "    mean = np.mean(values_profit)\n",
    "        # confidence intervals\n",
    "    ci = np.percentile(values_profit, [2.5, 97.5]) \n",
    "    #risk calculation. \n",
    "    for i in values_profit:\n",
    "        if i < 0: \n",
    "            neg_well += 1\n",
    "    risk_of_loses = (neg_well / len(values_profit))*100   \n",
    "    return mean, ci, risk_of_loses"
   ]
  },
  {
   "cell_type": "code",
   "execution_count": 38,
   "metadata": {
    "scrolled": true
   },
   "outputs": [],
   "source": [
    "#region0\n",
    "mean_profit0, ci0, risk0 = bootstrap_sample(target0_valid, predictions0_valid)\n",
    "#region1\n",
    "mean_profit1, ci1, risk1= bootstrap_sample(target1_valid, predictions1_valid)\n",
    "#region2\n",
    "mean_profit2, ci2, risk2 = bootstrap_sample(target2_valid, predictions2_valid)"
   ]
  },
  {
   "cell_type": "code",
   "execution_count": 39,
   "metadata": {
    "scrolled": true
   },
   "outputs": [
    {
     "name": "stdout",
     "output_type": "stream",
     "text": [
      "Region 0\n",
      "Avg. Profit: 4430813.562489239\n",
      "Con. Interval: [-753106.34727295 9708203.70470916]\n",
      "Risk of Loses: 5.2%\n"
     ]
    }
   ],
   "source": [
    "print('Region 0')\n",
    "\n",
    "print(f'Avg. Profit: {mean_profit0}')\n",
    "print(f'Con. Interval: {ci0}')\n",
    "print(f'Risk of Loses: {risk0}%')"
   ]
  },
  {
   "cell_type": "code",
   "execution_count": 40,
   "metadata": {},
   "outputs": [
    {
     "name": "stdout",
     "output_type": "stream",
     "text": [
      "Region 1\n",
      "Avg. Profit: 4440210.07241\n",
      "Con. Interval: [ 453010.43602593 8139836.86620788]\n",
      "Risk of Losses: 1.0999999999999999%\n"
     ]
    }
   ],
   "source": [
    "print('Region 1')\n",
    "\n",
    "print(f'Avg. Profit: {mean_profit1:0.5f}')\n",
    "print(f'Con. Interval: {ci1}')\n",
    "print(f'Risk of Losses: {risk1}%')"
   ]
  },
  {
   "cell_type": "code",
   "execution_count": 41,
   "metadata": {
    "scrolled": true
   },
   "outputs": [
    {
     "name": "stdout",
     "output_type": "stream",
     "text": [
      "Region 2\n",
      "Avg. Profit: 3812667.33049\n",
      "Con. Interval: [-1661308.28110109  8940204.82552793]\n",
      "Risk of Loses: 6.9%\n"
     ]
    }
   ],
   "source": [
    "print('Region 2')\n",
    "\n",
    "print(f'Avg. Profit: {mean_profit2:0.5f}')\n",
    "print(f'Con. Interval: {ci2}')\n",
    "print(f'Risk of Loses: {risk2}%')"
   ]
  },
  {
   "cell_type": "markdown",
   "metadata": {
    "heading_collapsed": true
   },
   "source": [
    "### Conclusion - Bootstrapping"
   ]
  },
  {
   "cell_type": "markdown",
   "metadata": {
    "hidden": true
   },
   "source": [
    "Region0\n",
    "\n",
    "- Avg. Profit: 4,528,813.831334356 (usd)\n",
    "- 95% Con. Interval:(-730,255.07550901, 9,360,096.4714741)\n",
    "- Risk of Loses: ~5.0%\n",
    "\n",
    "Region1\n",
    "\n",
    "- Avg. Profit: 4,573,837.08396 (usd)\n",
    "- 95% Con. Interval:(353,117.5039875, 8,472,777.02309997)\n",
    "- Risk of Loses: ~1.5%\n",
    "\n",
    "Region2\n",
    "\n",
    "- Avg. Profit: 3,963,091.13861 (usd)\n",
    "- 95% Con. Interval: (-1,078,291.42607806, 9,348,153.66291823)\n",
    "- Risk of Loses: ~7.3%\n",
    "\n",
    "**Conclusion**\n",
    "\n",
    "After analyzing the result of the samples for each region*\n",
    "The only one of the regions resulted in a *risk of lose* lower than the target (2.5%) is **Region 1**. \n",
    "- **region1** has a *risk of lose* of **~1.5%**. \n",
    "- lower boundry of the confidence interval was positive, also the only region that has this feature. \n",
    "\n",
    "Other regions (risk of lose-%).\n",
    "\n",
    "- region0:(~ 5.0%).\n",
    "- region2:(~ 7.3%). "
   ]
  },
  {
   "cell_type": "markdown",
   "metadata": {},
   "source": [
    "# Final Conclusions"
   ]
  },
  {
   "cell_type": "markdown",
   "metadata": {
    "heading_collapsed": true
   },
   "source": [
    "### RSME - Conclusion"
   ]
  },
  {
   "cell_type": "markdown",
   "metadata": {
    "hidden": true
   },
   "source": [
    "**Model_0** \n",
    "\n",
    "- MSE : 1430.6394569737404\n",
    "- RMSE : 37.82379485157115\n",
    "- Range:  0.0 - 185.33735241894465\n",
    "   \n",
    "**Model_1** \n",
    "\n",
    "- MSE : 0.7860353061240083\n",
    "- RMSE : 0.8865863218683268\n",
    "- Range:  0.0 - 137.94540774090564   \n",
    "    \n",
    "**Model_2** \n",
    "\n",
    "- MSE : 1616.6292401462572\n",
    "- RMSE : 40.20732818960067\n",
    "- Range:  0.0046060000398026 - 189.98819123328263\n",
    "\n",
    "**Ranking**\n",
    "- 1st - **Model_1** - RSME : 0.8865863218683268\n",
    "- 2nd - **Model_0** - RMSE : 37.82379485157115   \n",
    "- 3rd - **Model_2** - RMSE : 40.20732818960067\n",
    "\n",
    "**Recommendation** \n",
    "\n",
    "- Based on the \"RSME metric\" the model with the *lowest chance of error* would be **Model_1** being ~1.5%."
   ]
  },
  {
   "cell_type": "markdown",
   "metadata": {
    "heading_collapsed": true
   },
   "source": [
    "### Top 200 Profit Calc. - Conclusion"
   ]
  },
  {
   "cell_type": "markdown",
   "metadata": {
    "hidden": true
   },
   "source": [
    "**top_200_profit:** one random sample of 500.\n",
    "\n",
    "Based on predictions on the top 200 wells from each region and calculating the total profits.\n",
    "- **Region0** has the highest predicted total profit (~30,959,798). \n",
    "\n",
    "**Region0**\n",
    "- 30,959,797.71145364\n",
    "\n",
    "**Region1** \n",
    "- 24,150,866.96681509\n",
    "\n",
    "**Region2** \n",
    "- 26,469,034.90806426\n",
    "\n",
    "\n",
    "\n",
    "**Ranking**\n",
    "- 1st - **Region0** - Profit:(~30,959,798 ).\n",
    "- 2nd - **Region2** - Profit: (~26,469,035 ).   \n",
    "- 3rd - **Region1** - Profit: (~24,150,867 )."
   ]
  },
  {
   "cell_type": "markdown",
   "metadata": {
    "heading_collapsed": true
   },
   "source": [
    "### Bootstrapping -Final Conclusion "
   ]
  },
  {
   "cell_type": "markdown",
   "metadata": {
    "hidden": true
   },
   "source": [
    "**Region0**\n",
    "\n",
    "- Avg. Profit: 4,528,813.831334356 (usd)\n",
    "- 95% Con. Interval:(-730,255.07550901, 9,360,096.4714741)\n",
    "- Risk of Loses: ~5.0%\n",
    "\n",
    "**Region1**\n",
    "\n",
    "- Avg. Profit: 4,573,837.08396 (usd)\n",
    "- 95% Con. Interval:(353117.5039875, 8472777.02309997)\n",
    "- Risk of Loses: ~1.5%\n",
    "\n",
    "\n",
    "**Region2**\n",
    "\n",
    "- Avg. Profit: 3,963,091.13861 (usd)\n",
    "- 95% Con. Interval: (-1078291.42607806, 9348153.66291823)\n",
    "- Risk of Loses: ~7.3%\n",
    "\n",
    "**Conclusion:**\n",
    "\n",
    "**Region1** is the only one of the regions resulted in a *risk of lose* that meets the target (< 2.5%).\n",
    "\n",
    "- **Region1** has a *risk of lose* of **~1.5%**. \n",
    "\n",
    "**RANKED** (risk of lose-%).\n",
    "- region1:(~1.5%)\n",
    "- region0:(~5.0%).\n",
    "- region2:(~7.3%). "
   ]
  },
  {
   "cell_type": "markdown",
   "metadata": {},
   "source": [
    "## **Overall Conclusion**\n",
    "\n",
    "I recommend **Region1**, as the best location to develop new wells, *Risk of lose is the lowest* and *the highest average profit* of any region.\n",
    "\n",
    "Although, this models chance of error is much lower than the others it also seems to have the lowest projected profits.\n",
    "\n",
    "- **Region1 metric rankings**\n",
    "    - 1st - RSME: 0.8865863218683268\n",
    "    - 1st - Risk of Loss: ~1.5% \n",
    "    - 1st - Average profit: ~4,573,837.08396\n",
    "    - 3rd - Single Sample Profit: ~24,150,867\n"
   ]
  }
 ],
 "metadata": {
  "celltoolbar": "Raw Cell Format",
  "kernelspec": {
   "display_name": "Python 3 (ipykernel)",
   "language": "python",
   "name": "python3"
  },
  "language_info": {
   "codemirror_mode": {
    "name": "ipython",
    "version": 3
   },
   "file_extension": ".py",
   "mimetype": "text/x-python",
   "name": "python",
   "nbconvert_exporter": "python",
   "pygments_lexer": "ipython3",
   "version": "3.9.12"
  },
  "toc": {
   "base_numbering": 1,
   "nav_menu": {},
   "number_sections": true,
   "sideBar": true,
   "skip_h1_title": true,
   "title_cell": "Table of Contents",
   "title_sidebar": "Contents",
   "toc_cell": false,
   "toc_position": {
    "height": "calc(100% - 180px)",
    "left": "10px",
    "top": "150px",
    "width": "165px"
   },
   "toc_section_display": true,
   "toc_window_display": false
  },
  "varInspector": {
   "cols": {
    "lenName": 16,
    "lenType": 16,
    "lenVar": 40
   },
   "kernels_config": {
    "python": {
     "delete_cmd_postfix": "",
     "delete_cmd_prefix": "del ",
     "library": "var_list.py",
     "varRefreshCmd": "print(var_dic_list())"
    },
    "r": {
     "delete_cmd_postfix": ") ",
     "delete_cmd_prefix": "rm(",
     "library": "var_list.r",
     "varRefreshCmd": "cat(var_dic_list()) "
    }
   },
   "types_to_exclude": [
    "module",
    "function",
    "builtin_function_or_method",
    "instance",
    "_Feature"
   ],
   "window_display": false
  }
 },
 "nbformat": 4,
 "nbformat_minor": 2
}
